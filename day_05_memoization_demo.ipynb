{
 "cells": [
  {
   "cell_type": "code",
   "execution_count": 1,
   "id": "08546a4d",
   "metadata": {},
   "outputs": [
    {
     "name": "stdout",
     "output_type": "stream",
     "text": [
      "Running model.predict...\n",
      "[[0.8]]\n",
      "Using cached prediction.\n",
      "[[0.8]]\n"
     ]
    }
   ],
   "source": [
    "from tensorflow.keras.models import load_model\n",
    "import numpy as np\n",
    "\n",
    "# Load model (example)\n",
    "# model = load_model('my_ann_model.h5')\n",
    "\n",
    "# Dummy model for example\n",
    "class DummyModel:\n",
    "    def predict(self, x):\n",
    "        print(\"Running model.predict...\")\n",
    "        return x.sum(axis=1, keepdims=True)  # Fake prediction\n",
    "\n",
    "model = DummyModel()\n",
    "\n",
    "# Memoization dictionary\n",
    "prediction_cache = {}\n",
    "\n",
    "def predict_with_memoization(model, input_data):\n",
    "    # Convert input_data to a tuple (since numpy arrays are not hashable)\n",
    "    key = tuple(input_data.flatten())\n",
    "\n",
    "    if key in prediction_cache:\n",
    "        print(\"Using cached prediction.\")\n",
    "        return prediction_cache[key]\n",
    "    \n",
    "    prediction = model.predict(np.array([input_data]))  # Add batch dimension\n",
    "    prediction_cache[key] = prediction\n",
    "    return prediction\n",
    "\n",
    "# Sample input\n",
    "x1 = np.array([0.2, 0.5, 0.1])\n",
    "\n",
    "# First call — model runs\n",
    "print(predict_with_memoization(model, x1))\n",
    "\n",
    "# Second call — uses cache\n",
    "print(predict_with_memoization(model, x1))\n"
   ]
  },
  {
   "cell_type": "markdown",
   "id": "e6c0d4e0",
   "metadata": {},
   "source": [
    "it's a example of memoization in fibonaci "
   ]
  },
  {
   "cell_type": "code",
   "execution_count": 4,
   "id": "cce1e1df",
   "metadata": {},
   "outputs": [],
   "source": [
    "# without memoization\n",
    "def fibo(n):\n",
    "    if n == 1 or n == 0:\n",
    "        return 1\n",
    "    \n",
    "    else:\n",
    "        return fibo(n-1) + fibo(n-2)"
   ]
  },
  {
   "cell_type": "code",
   "execution_count": 5,
   "id": "f03b47fc",
   "metadata": {},
   "outputs": [
    {
     "data": {
      "text/plain": [
       "165580141"
      ]
     },
     "execution_count": 5,
     "metadata": {},
     "output_type": "execute_result"
    }
   ],
   "source": [
    "fibo(40)"
   ]
  },
  {
   "cell_type": "code",
   "execution_count": 6,
   "id": "4b5798cc",
   "metadata": {},
   "outputs": [],
   "source": [
    "# with memoization\n",
    "def fibo(n,d):\n",
    "    if n in d:\n",
    "        return d[n]\n",
    "    \n",
    "    else:\n",
    "        d[n] = fibo(n-1, d) + fibo(n-2, d)\n",
    "        return d[n]"
   ]
  },
  {
   "cell_type": "code",
   "execution_count": 7,
   "id": "65c3b4df",
   "metadata": {},
   "outputs": [
    {
     "data": {
      "text/plain": [
       "165580141"
      ]
     },
     "execution_count": 7,
     "metadata": {},
     "output_type": "execute_result"
    }
   ],
   "source": [
    "d = {0:1, 1:1}\n",
    "fibo(40,d)"
   ]
  },
  {
   "cell_type": "code",
   "execution_count": null,
   "id": "35da64e4",
   "metadata": {},
   "outputs": [],
   "source": []
  }
 ],
 "metadata": {
  "kernelspec": {
   "display_name": "venv",
   "language": "python",
   "name": "python3"
  },
  "language_info": {
   "codemirror_mode": {
    "name": "ipython",
    "version": 3
   },
   "file_extension": ".py",
   "mimetype": "text/x-python",
   "name": "python",
   "nbconvert_exporter": "python",
   "pygments_lexer": "ipython3",
   "version": "3.12.4"
  }
 },
 "nbformat": 4,
 "nbformat_minor": 5
}
