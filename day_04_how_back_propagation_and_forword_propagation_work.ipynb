{
 "cells": [
  {
   "cell_type": "code",
   "execution_count": 1,
   "id": "33e2c202",
   "metadata": {},
   "outputs": [],
   "source": [
    "# import the dependece\n",
    "import numpy as np\n",
    "import pandas as pd"
   ]
  },
  {
   "cell_type": "code",
   "execution_count": 3,
   "id": "b350b9be",
   "metadata": {},
   "outputs": [],
   "source": [
    "# to make a dataset\n",
    "df = pd.DataFrame([[8,8,4],[7,9,5],[6,10,6],[5,12,7]], columns=['cgpa','profile_score','lpa'])"
   ]
  },
  {
   "cell_type": "code",
   "execution_count": 4,
   "id": "b6df11ab",
   "metadata": {},
   "outputs": [
    {
     "data": {
      "text/html": [
       "<div>\n",
       "<style scoped>\n",
       "    .dataframe tbody tr th:only-of-type {\n",
       "        vertical-align: middle;\n",
       "    }\n",
       "\n",
       "    .dataframe tbody tr th {\n",
       "        vertical-align: top;\n",
       "    }\n",
       "\n",
       "    .dataframe thead th {\n",
       "        text-align: right;\n",
       "    }\n",
       "</style>\n",
       "<table border=\"1\" class=\"dataframe\">\n",
       "  <thead>\n",
       "    <tr style=\"text-align: right;\">\n",
       "      <th></th>\n",
       "      <th>cgpa</th>\n",
       "      <th>profile_score</th>\n",
       "      <th>lpa</th>\n",
       "    </tr>\n",
       "  </thead>\n",
       "  <tbody>\n",
       "    <tr>\n",
       "      <th>0</th>\n",
       "      <td>8</td>\n",
       "      <td>8</td>\n",
       "      <td>4</td>\n",
       "    </tr>\n",
       "    <tr>\n",
       "      <th>1</th>\n",
       "      <td>7</td>\n",
       "      <td>9</td>\n",
       "      <td>5</td>\n",
       "    </tr>\n",
       "    <tr>\n",
       "      <th>2</th>\n",
       "      <td>6</td>\n",
       "      <td>10</td>\n",
       "      <td>6</td>\n",
       "    </tr>\n",
       "    <tr>\n",
       "      <th>3</th>\n",
       "      <td>5</td>\n",
       "      <td>12</td>\n",
       "      <td>7</td>\n",
       "    </tr>\n",
       "  </tbody>\n",
       "</table>\n",
       "</div>"
      ],
      "text/plain": [
       "   cgpa  profile_score  lpa\n",
       "0     8              8    4\n",
       "1     7              9    5\n",
       "2     6             10    6\n",
       "3     5             12    7"
      ]
     },
     "execution_count": 4,
     "metadata": {},
     "output_type": "execute_result"
    }
   ],
   "source": [
    "df"
   ]
  },
  {
   "cell_type": "code",
   "execution_count": 11,
   "id": "3f6d97fc",
   "metadata": {},
   "outputs": [],
   "source": [
    "def initialize_parameters(layer_dims):\n",
    "    np.random.seed(3)\n",
    "    parameters = {}\n",
    "    l = len(layer_dims)\n",
    "    \n",
    "    for i in range(1,l):\n",
    "        parameters['W' + str(i)] = np.ones((layer_dims[i-1], layer_dims[i])) * 0.1\n",
    "        parameters['b' +str(i)] = np.ones((layer_dims[i],1))\n",
    "        \n",
    "    return parameters"
   ]
  },
  {
   "cell_type": "code",
   "execution_count": 12,
   "id": "95dea1b8",
   "metadata": {},
   "outputs": [
    {
     "data": {
      "text/plain": [
       "{'W1': array([[0.1, 0.1],\n",
       "        [0.1, 0.1]]),\n",
       " 'b1': array([[1.],\n",
       "        [1.]]),\n",
       " 'W2': array([[0.1],\n",
       "        [0.1]]),\n",
       " 'b2': array([[1.]])}"
      ]
     },
     "execution_count": 12,
     "metadata": {},
     "output_type": "execute_result"
    }
   ],
   "source": [
    "initialize_parameters([2,2,1])"
   ]
  },
  {
   "cell_type": "code",
   "execution_count": 14,
   "id": "f29c8635",
   "metadata": {},
   "outputs": [],
   "source": [
    "def linear_forword(A_prev, W, b):\n",
    "    z = np.dot(W.T, A_prev) + b\n",
    "    \n",
    "    return z"
   ]
  },
  {
   "cell_type": "code",
   "execution_count": 24,
   "id": "c87726a2",
   "metadata": {},
   "outputs": [],
   "source": [
    "# main function forword propagation\n",
    "\n",
    "def l_layers_forword(x,parameters):\n",
    "    A = x\n",
    "    l = len(parameters) // 2\n",
    "    \n",
    "    for i in range(1, l + 1):\n",
    "        A_prev = A\n",
    "        w1 = parameters['W' + str(1)]\n",
    "        b1 = parameters['b' + str(1)]\n",
    "        print(\"A\" + str(l-1), A_prev)\n",
    "        print(\"W\" + str(l), w1)\n",
    "        print(\"b\" + str(l), b1)\n",
    "        print(\"--\" * 20)\n",
    "        \n",
    "        A = linear_forword(A_prev, w1, b1)\n",
    "        print(\"A\" + str(l), A)\n",
    "        print(\"**\" * 20)\n",
    "        \n",
    "    return A, A_prev"
   ]
  },
  {
   "cell_type": "code",
   "execution_count": 25,
   "id": "25d8615c",
   "metadata": {},
   "outputs": [],
   "source": [
    "x = df[['cgpa','profile_score']].values[0].reshape(2,1)\n",
    "y = df[['lpa']].values[0][0]\n",
    "\n",
    "parameters = initialize_parameters([2,2,1])"
   ]
  },
  {
   "cell_type": "code",
   "execution_count": 26,
   "id": "7938d8bd",
   "metadata": {},
   "outputs": [
    {
     "data": {
      "text/plain": [
       "{'W1': array([[0.1, 0.1],\n",
       "        [0.1, 0.1]]),\n",
       " 'b1': array([[1.],\n",
       "        [1.]]),\n",
       " 'W2': array([[0.1],\n",
       "        [0.1]]),\n",
       " 'b2': array([[1.]])}"
      ]
     },
     "execution_count": 26,
     "metadata": {},
     "output_type": "execute_result"
    }
   ],
   "source": [
    "parameters"
   ]
  },
  {
   "cell_type": "code",
   "execution_count": 27,
   "id": "e7d7c56e",
   "metadata": {},
   "outputs": [
    {
     "name": "stdout",
     "output_type": "stream",
     "text": [
      "A1 [[8]\n",
      " [8]]\n",
      "W2 [[0.1 0.1]\n",
      " [0.1 0.1]]\n",
      "b2 [[1.]\n",
      " [1.]]\n",
      "----------------------------------------\n",
      "A2 [[2.6]\n",
      " [2.6]]\n",
      "****************************************\n",
      "A1 [[2.6]\n",
      " [2.6]]\n",
      "W2 [[0.1 0.1]\n",
      " [0.1 0.1]]\n",
      "b2 [[1.]\n",
      " [1.]]\n",
      "----------------------------------------\n",
      "A2 [[1.52]\n",
      " [1.52]]\n",
      "****************************************\n"
     ]
    }
   ],
   "source": [
    "y_hat, A1 = l_layers_forword(x,parameters)"
   ]
  },
  {
   "cell_type": "code",
   "execution_count": 28,
   "id": "d8701d95",
   "metadata": {},
   "outputs": [],
   "source": [
    "y_hat = y_hat[0][0]"
   ]
  },
  {
   "cell_type": "code",
   "execution_count": 29,
   "id": "f92bece6",
   "metadata": {},
   "outputs": [
    {
     "data": {
      "text/plain": [
       "1.52"
      ]
     },
     "execution_count": 29,
     "metadata": {},
     "output_type": "execute_result"
    }
   ],
   "source": [
    "y_hat"
   ]
  },
  {
   "cell_type": "code",
   "execution_count": 30,
   "id": "acbc569e",
   "metadata": {},
   "outputs": [
    {
     "data": {
      "text/plain": [
       "array([[2.6],\n",
       "       [2.6]])"
      ]
     },
     "execution_count": 30,
     "metadata": {},
     "output_type": "execute_result"
    }
   ],
   "source": [
    "A1"
   ]
  },
  {
   "cell_type": "code",
   "execution_count": 40,
   "id": "e63d7d6e",
   "metadata": {},
   "outputs": [
    {
     "data": {
      "text/plain": [
       "21.902399999999997"
      ]
     },
     "execution_count": 40,
     "metadata": {},
     "output_type": "execute_result"
    }
   ],
   "source": [
    "(y - 0.32) ** 2"
   ]
  },
  {
   "cell_type": "code",
   "execution_count": 41,
   "id": "f7010bab",
   "metadata": {},
   "outputs": [
    {
     "data": {
      "text/plain": [
       "{'W1': array([[0.1, 0.1],\n",
       "        [0.1, 0.1]]),\n",
       " 'b1': array([[1.],\n",
       "        [1.]]),\n",
       " 'W2': array([[0.1],\n",
       "        [0.1]]),\n",
       " 'b2': array([[1.]])}"
      ]
     },
     "execution_count": 41,
     "metadata": {},
     "output_type": "execute_result"
    }
   ],
   "source": [
    "parameters"
   ]
  },
  {
   "cell_type": "code",
   "execution_count": 42,
   "id": "17198781",
   "metadata": {},
   "outputs": [
    {
     "name": "stdout",
     "output_type": "stream",
     "text": [
      "A1 [[7]\n",
      " [9]]\n",
      "W2 [[0.1 0.1]\n",
      " [0.1 0.1]]\n",
      "b2 [[1.]\n",
      " [1.]]\n",
      "----------------------------------------\n",
      "A2 [[2.6]\n",
      " [2.6]]\n",
      "****************************************\n",
      "A1 [[2.6]\n",
      " [2.6]]\n",
      "W2 [[0.1 0.1]\n",
      " [0.1 0.1]]\n",
      "b2 [[1.]\n",
      " [1.]]\n",
      "----------------------------------------\n",
      "A2 [[1.52]\n",
      " [1.52]]\n",
      "****************************************\n"
     ]
    }
   ],
   "source": [
    "x = df[['cgpa', 'profile_score']].values[1].reshape(2,1)\n",
    "y = df[['lpa']].values[1][0]\n",
    "\n",
    "parameters = initialize_parameters([2,2,1])\n",
    "\n",
    "y_hat, A1 = l_layers_forword(x, parameters)"
   ]
  },
  {
   "cell_type": "code",
   "execution_count": 43,
   "id": "d808d458",
   "metadata": {},
   "outputs": [],
   "source": [
    "# updata parameters\n",
    "def update_parameters(parameters, y, y_hat, A1, X):\n",
    "  parameters['W2'][0][0] = parameters['W2'][0][0] + (0.001 * 2 * (y - y_hat)*A1[0][0])\n",
    "  parameters['W2'][1][0] = parameters['W2'][1][0] + (0.001 * 2 * (y - y_hat)*A1[1][0])\n",
    "  parameters['b2'][0][0] = parameters['W2'][1][0] + (0.001 * 2 * (y - y_hat))\n",
    "\n",
    "  parameters['W1'][0][0] = parameters['W1'][0][0] + (0.001 * 2 * (y - y_hat)*parameters['W2'][0][0]*X[0][0])\n",
    "  parameters['W1'][0][1] = parameters['W1'][0][1] + (0.001 * 2 * (y - y_hat)*parameters['W2'][0][0]*X[1][0])\n",
    "  parameters['b1'][0][0] = parameters['b1'][0][0] + (0.001 * 2 * (y - y_hat)*parameters['W2'][0][0])\n",
    "\n",
    "  parameters['W1'][1][0] = parameters['W1'][1][0] + (0.001 * 2 * (y - y_hat)*parameters['W2'][1][0]*X[0][0])\n",
    "  parameters['W1'][1][1] = parameters['W1'][1][1] + (0.001 * 2 * (y - y_hat)*parameters['W2'][1][0]*X[1][0])\n",
    "  parameters['b1'][1][0] = parameters['b1'][1][0] + (0.001 * 2 * (y - y_hat)*parameters['W2'][1][0])"
   ]
  },
  {
   "cell_type": "code",
   "execution_count": null,
   "id": "cf742d73",
   "metadata": {},
   "outputs": [],
   "source": [
    "# Initialize parameters once before processing all rows\n",
    "parameters = initialize_parameters([2,2,1])\n",
    "epochs = 5\n",
    "\n",
    "for i in range(epochs):\n",
    "  loss = []\n",
    "  # Iterate through each row of the dataframe\n",
    "  for j in range(df.shape[0]):\n",
    "    x = df[['cgpa', 'profile_score']].values[j].reshape(2,1)\n",
    "    y = df[['lpa']].values[j][0]\n",
    "\n",
    "    y_hat, A1 = l_layers_forword(x, parameters)\n",
    "    y_hat = y_hat[0][0]\n",
    "\n",
    "    update_parameters(parameters, y, y_hat, A1, x)\n",
    "    loss.append((y - y_hat)**2)\n",
    "\n",
    "  print('Epoch - ', i+1, 'Loss - ', np.array(loss).mean())\n",
    "\n",
    "parameters"
   ]
  }
 ],
 "metadata": {
  "kernelspec": {
   "display_name": "venv",
   "language": "python",
   "name": "python3"
  },
  "language_info": {
   "codemirror_mode": {
    "name": "ipython",
    "version": 3
   },
   "file_extension": ".py",
   "mimetype": "text/x-python",
   "name": "python",
   "nbconvert_exporter": "python",
   "pygments_lexer": "ipython3",
   "version": "3.12.4"
  }
 },
 "nbformat": 4,
 "nbformat_minor": 5
}
