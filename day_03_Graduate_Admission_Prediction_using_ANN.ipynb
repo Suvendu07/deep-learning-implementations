{
 "cells": [
  {
   "cell_type": "code",
   "execution_count": 1,
   "id": "b8567fff",
   "metadata": {},
   "outputs": [],
   "source": [
    "# import the dependence\n",
    "import numpy as np\n",
    "import pandas as pd\n",
    "import matplotlib.pyplot as plt\n",
    "from sklearn.model_selection import train_test_split "
   ]
  },
  {
   "cell_type": "code",
   "execution_count": 2,
   "id": "9f8599c6",
   "metadata": {},
   "outputs": [],
   "source": [
    "df = pd.read_csv(\"C:/Users/Suvendu Khuntia/Downloads/Admission_Predict.csv\")"
   ]
  },
  {
   "cell_type": "code",
   "execution_count": 3,
   "id": "12378b55",
   "metadata": {},
   "outputs": [
    {
     "data": {
      "text/html": [
       "<div>\n",
       "<style scoped>\n",
       "    .dataframe tbody tr th:only-of-type {\n",
       "        vertical-align: middle;\n",
       "    }\n",
       "\n",
       "    .dataframe tbody tr th {\n",
       "        vertical-align: top;\n",
       "    }\n",
       "\n",
       "    .dataframe thead th {\n",
       "        text-align: right;\n",
       "    }\n",
       "</style>\n",
       "<table border=\"1\" class=\"dataframe\">\n",
       "  <thead>\n",
       "    <tr style=\"text-align: right;\">\n",
       "      <th></th>\n",
       "      <th>Serial No.</th>\n",
       "      <th>GRE Score</th>\n",
       "      <th>TOEFL Score</th>\n",
       "      <th>University Rating</th>\n",
       "      <th>SOP</th>\n",
       "      <th>LOR</th>\n",
       "      <th>CGPA</th>\n",
       "      <th>Research</th>\n",
       "      <th>Chance of Admit</th>\n",
       "    </tr>\n",
       "  </thead>\n",
       "  <tbody>\n",
       "    <tr>\n",
       "      <th>0</th>\n",
       "      <td>1</td>\n",
       "      <td>337</td>\n",
       "      <td>118</td>\n",
       "      <td>4</td>\n",
       "      <td>4.5</td>\n",
       "      <td>4.5</td>\n",
       "      <td>9.65</td>\n",
       "      <td>1</td>\n",
       "      <td>0.92</td>\n",
       "    </tr>\n",
       "    <tr>\n",
       "      <th>1</th>\n",
       "      <td>2</td>\n",
       "      <td>324</td>\n",
       "      <td>107</td>\n",
       "      <td>4</td>\n",
       "      <td>4.0</td>\n",
       "      <td>4.5</td>\n",
       "      <td>8.87</td>\n",
       "      <td>1</td>\n",
       "      <td>0.76</td>\n",
       "    </tr>\n",
       "    <tr>\n",
       "      <th>2</th>\n",
       "      <td>3</td>\n",
       "      <td>316</td>\n",
       "      <td>104</td>\n",
       "      <td>3</td>\n",
       "      <td>3.0</td>\n",
       "      <td>3.5</td>\n",
       "      <td>8.00</td>\n",
       "      <td>1</td>\n",
       "      <td>0.72</td>\n",
       "    </tr>\n",
       "    <tr>\n",
       "      <th>3</th>\n",
       "      <td>4</td>\n",
       "      <td>322</td>\n",
       "      <td>110</td>\n",
       "      <td>3</td>\n",
       "      <td>3.5</td>\n",
       "      <td>2.5</td>\n",
       "      <td>8.67</td>\n",
       "      <td>1</td>\n",
       "      <td>0.80</td>\n",
       "    </tr>\n",
       "    <tr>\n",
       "      <th>4</th>\n",
       "      <td>5</td>\n",
       "      <td>314</td>\n",
       "      <td>103</td>\n",
       "      <td>2</td>\n",
       "      <td>2.0</td>\n",
       "      <td>3.0</td>\n",
       "      <td>8.21</td>\n",
       "      <td>0</td>\n",
       "      <td>0.65</td>\n",
       "    </tr>\n",
       "  </tbody>\n",
       "</table>\n",
       "</div>"
      ],
      "text/plain": [
       "   Serial No.  GRE Score  TOEFL Score  University Rating  SOP  LOR   CGPA  \\\n",
       "0           1        337          118                  4  4.5   4.5  9.65   \n",
       "1           2        324          107                  4  4.0   4.5  8.87   \n",
       "2           3        316          104                  3  3.0   3.5  8.00   \n",
       "3           4        322          110                  3  3.5   2.5  8.67   \n",
       "4           5        314          103                  2  2.0   3.0  8.21   \n",
       "\n",
       "   Research  Chance of Admit   \n",
       "0         1              0.92  \n",
       "1         1              0.76  \n",
       "2         1              0.72  \n",
       "3         1              0.80  \n",
       "4         0              0.65  "
      ]
     },
     "execution_count": 3,
     "metadata": {},
     "output_type": "execute_result"
    }
   ],
   "source": [
    "df.head()"
   ]
  },
  {
   "cell_type": "code",
   "execution_count": 4,
   "id": "f385ca56",
   "metadata": {},
   "outputs": [
    {
     "data": {
      "text/plain": [
       "(400, 9)"
      ]
     },
     "execution_count": 4,
     "metadata": {},
     "output_type": "execute_result"
    }
   ],
   "source": [
    "# check the shape of the dataset\n",
    "df.shape"
   ]
  },
  {
   "cell_type": "code",
   "execution_count": 5,
   "id": "e65377e2",
   "metadata": {},
   "outputs": [
    {
     "data": {
      "text/plain": [
       "Serial No.           0\n",
       "GRE Score            0\n",
       "TOEFL Score          0\n",
       "University Rating    0\n",
       "SOP                  0\n",
       "LOR                  0\n",
       "CGPA                 0\n",
       "Research             0\n",
       "Chance of Admit      0\n",
       "dtype: int64"
      ]
     },
     "execution_count": 5,
     "metadata": {},
     "output_type": "execute_result"
    }
   ],
   "source": [
    "# check any null value \n",
    "df.isnull().sum()"
   ]
  },
  {
   "cell_type": "code",
   "execution_count": 6,
   "id": "ae5d3e47",
   "metadata": {},
   "outputs": [
    {
     "data": {
      "text/plain": [
       "<bound method DataFrame.info of      Serial No.  GRE Score  TOEFL Score  University Rating  SOP  LOR   CGPA  \\\n",
       "0             1        337          118                  4  4.5   4.5  9.65   \n",
       "1             2        324          107                  4  4.0   4.5  8.87   \n",
       "2             3        316          104                  3  3.0   3.5  8.00   \n",
       "3             4        322          110                  3  3.5   2.5  8.67   \n",
       "4             5        314          103                  2  2.0   3.0  8.21   \n",
       "..          ...        ...          ...                ...  ...   ...   ...   \n",
       "395         396        324          110                  3  3.5   3.5  9.04   \n",
       "396         397        325          107                  3  3.0   3.5  9.11   \n",
       "397         398        330          116                  4  5.0   4.5  9.45   \n",
       "398         399        312          103                  3  3.5   4.0  8.78   \n",
       "399         400        333          117                  4  5.0   4.0  9.66   \n",
       "\n",
       "     Research  Chance of Admit   \n",
       "0           1              0.92  \n",
       "1           1              0.76  \n",
       "2           1              0.72  \n",
       "3           1              0.80  \n",
       "4           0              0.65  \n",
       "..        ...               ...  \n",
       "395         1              0.82  \n",
       "396         1              0.84  \n",
       "397         1              0.91  \n",
       "398         0              0.67  \n",
       "399         1              0.95  \n",
       "\n",
       "[400 rows x 9 columns]>"
      ]
     },
     "execution_count": 6,
     "metadata": {},
     "output_type": "execute_result"
    }
   ],
   "source": [
    "df.info"
   ]
  },
  {
   "cell_type": "code",
   "execution_count": 7,
   "id": "437f2436",
   "metadata": {},
   "outputs": [
    {
     "data": {
      "text/plain": [
       "0"
      ]
     },
     "execution_count": 7,
     "metadata": {},
     "output_type": "execute_result"
    }
   ],
   "source": [
    "# check duplicate's value\n",
    "df.duplicated().sum()"
   ]
  },
  {
   "cell_type": "code",
   "execution_count": 8,
   "id": "9014b911",
   "metadata": {},
   "outputs": [],
   "source": [
    "# drop the serial columns\n",
    "df = df.drop(columns='Serial No.', axis=1)"
   ]
  },
  {
   "cell_type": "code",
   "execution_count": 9,
   "id": "33e334e7",
   "metadata": {},
   "outputs": [
    {
     "data": {
      "text/html": [
       "<div>\n",
       "<style scoped>\n",
       "    .dataframe tbody tr th:only-of-type {\n",
       "        vertical-align: middle;\n",
       "    }\n",
       "\n",
       "    .dataframe tbody tr th {\n",
       "        vertical-align: top;\n",
       "    }\n",
       "\n",
       "    .dataframe thead th {\n",
       "        text-align: right;\n",
       "    }\n",
       "</style>\n",
       "<table border=\"1\" class=\"dataframe\">\n",
       "  <thead>\n",
       "    <tr style=\"text-align: right;\">\n",
       "      <th></th>\n",
       "      <th>GRE Score</th>\n",
       "      <th>TOEFL Score</th>\n",
       "      <th>University Rating</th>\n",
       "      <th>SOP</th>\n",
       "      <th>LOR</th>\n",
       "      <th>CGPA</th>\n",
       "      <th>Research</th>\n",
       "      <th>Chance of Admit</th>\n",
       "    </tr>\n",
       "  </thead>\n",
       "  <tbody>\n",
       "    <tr>\n",
       "      <th>0</th>\n",
       "      <td>337</td>\n",
       "      <td>118</td>\n",
       "      <td>4</td>\n",
       "      <td>4.5</td>\n",
       "      <td>4.5</td>\n",
       "      <td>9.65</td>\n",
       "      <td>1</td>\n",
       "      <td>0.92</td>\n",
       "    </tr>\n",
       "    <tr>\n",
       "      <th>1</th>\n",
       "      <td>324</td>\n",
       "      <td>107</td>\n",
       "      <td>4</td>\n",
       "      <td>4.0</td>\n",
       "      <td>4.5</td>\n",
       "      <td>8.87</td>\n",
       "      <td>1</td>\n",
       "      <td>0.76</td>\n",
       "    </tr>\n",
       "    <tr>\n",
       "      <th>2</th>\n",
       "      <td>316</td>\n",
       "      <td>104</td>\n",
       "      <td>3</td>\n",
       "      <td>3.0</td>\n",
       "      <td>3.5</td>\n",
       "      <td>8.00</td>\n",
       "      <td>1</td>\n",
       "      <td>0.72</td>\n",
       "    </tr>\n",
       "    <tr>\n",
       "      <th>3</th>\n",
       "      <td>322</td>\n",
       "      <td>110</td>\n",
       "      <td>3</td>\n",
       "      <td>3.5</td>\n",
       "      <td>2.5</td>\n",
       "      <td>8.67</td>\n",
       "      <td>1</td>\n",
       "      <td>0.80</td>\n",
       "    </tr>\n",
       "    <tr>\n",
       "      <th>4</th>\n",
       "      <td>314</td>\n",
       "      <td>103</td>\n",
       "      <td>2</td>\n",
       "      <td>2.0</td>\n",
       "      <td>3.0</td>\n",
       "      <td>8.21</td>\n",
       "      <td>0</td>\n",
       "      <td>0.65</td>\n",
       "    </tr>\n",
       "  </tbody>\n",
       "</table>\n",
       "</div>"
      ],
      "text/plain": [
       "   GRE Score  TOEFL Score  University Rating  SOP  LOR   CGPA  Research  \\\n",
       "0        337          118                  4  4.5   4.5  9.65         1   \n",
       "1        324          107                  4  4.0   4.5  8.87         1   \n",
       "2        316          104                  3  3.0   3.5  8.00         1   \n",
       "3        322          110                  3  3.5   2.5  8.67         1   \n",
       "4        314          103                  2  2.0   3.0  8.21         0   \n",
       "\n",
       "   Chance of Admit   \n",
       "0              0.92  \n",
       "1              0.76  \n",
       "2              0.72  \n",
       "3              0.80  \n",
       "4              0.65  "
      ]
     },
     "execution_count": 9,
     "metadata": {},
     "output_type": "execute_result"
    }
   ],
   "source": [
    "df.head()"
   ]
  },
  {
   "cell_type": "code",
   "execution_count": 10,
   "id": "7105f259",
   "metadata": {},
   "outputs": [
    {
     "data": {
      "text/plain": [
       "Index(['GRE Score', 'TOEFL Score', 'University Rating', 'SOP', 'LOR ', 'CGPA',\n",
       "       'Research', 'Chance of Admit '],\n",
       "      dtype='object')"
      ]
     },
     "execution_count": 10,
     "metadata": {},
     "output_type": "execute_result"
    }
   ],
   "source": [
    "df.columns"
   ]
  },
  {
   "cell_type": "code",
   "execution_count": 11,
   "id": "31817a5d",
   "metadata": {},
   "outputs": [],
   "source": [
    "df.columns = df.columns.str.strip()"
   ]
  },
  {
   "cell_type": "code",
   "execution_count": 12,
   "id": "e1fe9ce2",
   "metadata": {},
   "outputs": [],
   "source": [
    "# split the feature and target\n",
    "x = df.drop('Chance of Admit', axis=1)\n",
    "y = df['Chance of Admit']"
   ]
  },
  {
   "cell_type": "code",
   "execution_count": 13,
   "id": "63e68cfb",
   "metadata": {},
   "outputs": [
    {
     "data": {
      "text/html": [
       "<div>\n",
       "<style scoped>\n",
       "    .dataframe tbody tr th:only-of-type {\n",
       "        vertical-align: middle;\n",
       "    }\n",
       "\n",
       "    .dataframe tbody tr th {\n",
       "        vertical-align: top;\n",
       "    }\n",
       "\n",
       "    .dataframe thead th {\n",
       "        text-align: right;\n",
       "    }\n",
       "</style>\n",
       "<table border=\"1\" class=\"dataframe\">\n",
       "  <thead>\n",
       "    <tr style=\"text-align: right;\">\n",
       "      <th></th>\n",
       "      <th>GRE Score</th>\n",
       "      <th>TOEFL Score</th>\n",
       "      <th>University Rating</th>\n",
       "      <th>SOP</th>\n",
       "      <th>LOR</th>\n",
       "      <th>CGPA</th>\n",
       "      <th>Research</th>\n",
       "    </tr>\n",
       "  </thead>\n",
       "  <tbody>\n",
       "    <tr>\n",
       "      <th>0</th>\n",
       "      <td>337</td>\n",
       "      <td>118</td>\n",
       "      <td>4</td>\n",
       "      <td>4.5</td>\n",
       "      <td>4.5</td>\n",
       "      <td>9.65</td>\n",
       "      <td>1</td>\n",
       "    </tr>\n",
       "    <tr>\n",
       "      <th>1</th>\n",
       "      <td>324</td>\n",
       "      <td>107</td>\n",
       "      <td>4</td>\n",
       "      <td>4.0</td>\n",
       "      <td>4.5</td>\n",
       "      <td>8.87</td>\n",
       "      <td>1</td>\n",
       "    </tr>\n",
       "    <tr>\n",
       "      <th>2</th>\n",
       "      <td>316</td>\n",
       "      <td>104</td>\n",
       "      <td>3</td>\n",
       "      <td>3.0</td>\n",
       "      <td>3.5</td>\n",
       "      <td>8.00</td>\n",
       "      <td>1</td>\n",
       "    </tr>\n",
       "    <tr>\n",
       "      <th>3</th>\n",
       "      <td>322</td>\n",
       "      <td>110</td>\n",
       "      <td>3</td>\n",
       "      <td>3.5</td>\n",
       "      <td>2.5</td>\n",
       "      <td>8.67</td>\n",
       "      <td>1</td>\n",
       "    </tr>\n",
       "    <tr>\n",
       "      <th>4</th>\n",
       "      <td>314</td>\n",
       "      <td>103</td>\n",
       "      <td>2</td>\n",
       "      <td>2.0</td>\n",
       "      <td>3.0</td>\n",
       "      <td>8.21</td>\n",
       "      <td>0</td>\n",
       "    </tr>\n",
       "    <tr>\n",
       "      <th>...</th>\n",
       "      <td>...</td>\n",
       "      <td>...</td>\n",
       "      <td>...</td>\n",
       "      <td>...</td>\n",
       "      <td>...</td>\n",
       "      <td>...</td>\n",
       "      <td>...</td>\n",
       "    </tr>\n",
       "    <tr>\n",
       "      <th>395</th>\n",
       "      <td>324</td>\n",
       "      <td>110</td>\n",
       "      <td>3</td>\n",
       "      <td>3.5</td>\n",
       "      <td>3.5</td>\n",
       "      <td>9.04</td>\n",
       "      <td>1</td>\n",
       "    </tr>\n",
       "    <tr>\n",
       "      <th>396</th>\n",
       "      <td>325</td>\n",
       "      <td>107</td>\n",
       "      <td>3</td>\n",
       "      <td>3.0</td>\n",
       "      <td>3.5</td>\n",
       "      <td>9.11</td>\n",
       "      <td>1</td>\n",
       "    </tr>\n",
       "    <tr>\n",
       "      <th>397</th>\n",
       "      <td>330</td>\n",
       "      <td>116</td>\n",
       "      <td>4</td>\n",
       "      <td>5.0</td>\n",
       "      <td>4.5</td>\n",
       "      <td>9.45</td>\n",
       "      <td>1</td>\n",
       "    </tr>\n",
       "    <tr>\n",
       "      <th>398</th>\n",
       "      <td>312</td>\n",
       "      <td>103</td>\n",
       "      <td>3</td>\n",
       "      <td>3.5</td>\n",
       "      <td>4.0</td>\n",
       "      <td>8.78</td>\n",
       "      <td>0</td>\n",
       "    </tr>\n",
       "    <tr>\n",
       "      <th>399</th>\n",
       "      <td>333</td>\n",
       "      <td>117</td>\n",
       "      <td>4</td>\n",
       "      <td>5.0</td>\n",
       "      <td>4.0</td>\n",
       "      <td>9.66</td>\n",
       "      <td>1</td>\n",
       "    </tr>\n",
       "  </tbody>\n",
       "</table>\n",
       "<p>400 rows × 7 columns</p>\n",
       "</div>"
      ],
      "text/plain": [
       "     GRE Score  TOEFL Score  University Rating  SOP  LOR  CGPA  Research\n",
       "0          337          118                  4  4.5  4.5  9.65         1\n",
       "1          324          107                  4  4.0  4.5  8.87         1\n",
       "2          316          104                  3  3.0  3.5  8.00         1\n",
       "3          322          110                  3  3.5  2.5  8.67         1\n",
       "4          314          103                  2  2.0  3.0  8.21         0\n",
       "..         ...          ...                ...  ...  ...   ...       ...\n",
       "395        324          110                  3  3.5  3.5  9.04         1\n",
       "396        325          107                  3  3.0  3.5  9.11         1\n",
       "397        330          116                  4  5.0  4.5  9.45         1\n",
       "398        312          103                  3  3.5  4.0  8.78         0\n",
       "399        333          117                  4  5.0  4.0  9.66         1\n",
       "\n",
       "[400 rows x 7 columns]"
      ]
     },
     "execution_count": 13,
     "metadata": {},
     "output_type": "execute_result"
    }
   ],
   "source": [
    "x"
   ]
  },
  {
   "cell_type": "code",
   "execution_count": 14,
   "id": "840bd813",
   "metadata": {},
   "outputs": [
    {
     "data": {
      "text/plain": [
       "0      0.92\n",
       "1      0.76\n",
       "2      0.72\n",
       "3      0.80\n",
       "4      0.65\n",
       "       ... \n",
       "395    0.82\n",
       "396    0.84\n",
       "397    0.91\n",
       "398    0.67\n",
       "399    0.95\n",
       "Name: Chance of Admit, Length: 400, dtype: float64"
      ]
     },
     "execution_count": 14,
     "metadata": {},
     "output_type": "execute_result"
    }
   ],
   "source": [
    "y"
   ]
  },
  {
   "cell_type": "code",
   "execution_count": 15,
   "id": "df82d8a2",
   "metadata": {},
   "outputs": [],
   "source": [
    "# spliting into the dataset into training & testing\n",
    "x_train, x_test, y_train, y_test = train_test_split(x,y, test_size=0.2, random_state=42)"
   ]
  },
  {
   "cell_type": "code",
   "execution_count": 16,
   "id": "387cf91e",
   "metadata": {},
   "outputs": [
    {
     "name": "stdout",
     "output_type": "stream",
     "text": [
      "(400, 7) (320, 7) (80, 7)\n"
     ]
    }
   ],
   "source": [
    "print(x.shape, x_train.shape, x_test.shape)"
   ]
  },
  {
   "cell_type": "code",
   "execution_count": 17,
   "id": "4f0bbb34",
   "metadata": {},
   "outputs": [],
   "source": [
    "# Use MinMaxScaler for neural networks\n",
    "from sklearn.preprocessing import MinMaxScaler"
   ]
  },
  {
   "cell_type": "code",
   "execution_count": 18,
   "id": "8db66638",
   "metadata": {},
   "outputs": [],
   "source": [
    "scaler = MinMaxScaler()"
   ]
  },
  {
   "cell_type": "code",
   "execution_count": 19,
   "id": "4ca0c674",
   "metadata": {},
   "outputs": [],
   "source": [
    "x_train_scaled = scaler.fit_transform(x_train)\n",
    "x_test_scaled = scaler.fit_transform(x_test)"
   ]
  },
  {
   "cell_type": "code",
   "execution_count": 20,
   "id": "c6b9a415",
   "metadata": {},
   "outputs": [
    {
     "data": {
      "text/plain": [
       "array([[0.64      , 0.64285714, 0.5       , ..., 0.375     , 0.59935897,\n",
       "        1.        ],\n",
       "       [0.56      , 0.64285714, 0.5       , ..., 0.5       , 0.64102564,\n",
       "        0.        ],\n",
       "       [1.        , 1.        , 1.        , ..., 0.875     , 0.99679487,\n",
       "        1.        ],\n",
       "       ...,\n",
       "       [0.32      , 0.46428571, 0.25      , ..., 0.5       , 0.45512821,\n",
       "        1.        ],\n",
       "       [0.24      , 0.25      , 0.        , ..., 0.25      , 0.14423077,\n",
       "        0.        ],\n",
       "       [0.48      , 0.5       , 0.25      , ..., 0.625     , 0.46474359,\n",
       "        0.        ]])"
      ]
     },
     "execution_count": 20,
     "metadata": {},
     "output_type": "execute_result"
    }
   ],
   "source": [
    "x_train_scaled"
   ]
  },
  {
   "cell_type": "code",
   "execution_count": 21,
   "id": "b2fc78e9",
   "metadata": {},
   "outputs": [
    {
     "data": {
      "text/plain": [
       "array([[0.11363636, 0.36      , 0.5       , 0.57142857, 0.71428571,\n",
       "        0.29752066, 1.        ],\n",
       "       [0.34090909, 0.28      , 0.5       , 0.85714286, 0.71428571,\n",
       "        0.51239669, 1.        ],\n",
       "       [1.        , 0.76      , 1.        , 0.71428571, 0.71428571,\n",
       "        0.90909091, 1.        ],\n",
       "       [0.65909091, 0.52      , 0.75      , 0.85714286, 0.71428571,\n",
       "        0.68595041, 1.        ],\n",
       "       [0.11363636, 0.08      , 0.25      , 0.42857143, 0.42857143,\n",
       "        0.19834711, 1.        ],\n",
       "       [1.        , 0.8       , 1.        , 0.85714286, 0.85714286,\n",
       "        0.84710744, 1.        ],\n",
       "       [0.02272727, 0.04      , 0.25      , 0.28571429, 0.        ,\n",
       "        0.20247934, 0.        ],\n",
       "       [0.15909091, 0.16      , 0.5       , 0.14285714, 0.28571429,\n",
       "        0.10743802, 0.        ],\n",
       "       [0.36363636, 0.4       , 0.25      , 0.14285714, 0.28571429,\n",
       "        0.4338843 , 0.        ],\n",
       "       [0.61363636, 0.72      , 0.5       , 0.71428571, 0.42857143,\n",
       "        0.79338843, 1.        ],\n",
       "       [0.61363636, 0.52      , 0.5       , 0.57142857, 0.42857143,\n",
       "        0.49586777, 0.        ],\n",
       "       [0.86363636, 0.84      , 0.75      , 0.71428571, 0.57142857,\n",
       "        0.88429752, 1.        ],\n",
       "       [0.45454545, 0.28      , 0.5       , 0.14285714, 0.42857143,\n",
       "        0.        , 0.        ],\n",
       "       [0.56818182, 0.64      , 1.        , 1.        , 1.        ,\n",
       "        0.84710744, 1.        ],\n",
       "       [0.29545455, 0.4       , 1.        , 0.57142857, 0.57142857,\n",
       "        0.47933884, 0.        ],\n",
       "       [0.38636364, 0.48      , 0.25      , 0.28571429, 0.14285714,\n",
       "        0.45454545, 1.        ],\n",
       "       [0.27272727, 0.32      , 0.25      , 0.42857143, 0.57142857,\n",
       "        0.45041322, 0.        ],\n",
       "       [0.02272727, 0.04      , 0.25      , 0.28571429, 0.14285714,\n",
       "        0.01239669, 0.        ],\n",
       "       [0.52272727, 0.44      , 0.5       , 0.57142857, 0.28571429,\n",
       "        0.38429752, 1.        ],\n",
       "       [0.88636364, 0.88      , 1.        , 1.        , 1.        ,\n",
       "        1.        , 1.        ],\n",
       "       [0.11363636, 0.16      , 0.25      , 0.42857143, 0.14285714,\n",
       "        0.33884298, 0.        ],\n",
       "       [0.40909091, 0.4       , 0.5       , 0.57142857, 0.28571429,\n",
       "        0.37190083, 0.        ],\n",
       "       [0.5       , 0.44      , 0.5       , 0.14285714, 0.42857143,\n",
       "        0.51652893, 0.        ],\n",
       "       [0.06818182, 0.04      , 0.25      , 0.        , 0.14285714,\n",
       "        0.19008264, 0.        ],\n",
       "       [0.93181818, 0.92      , 0.75      , 0.85714286, 0.85714286,\n",
       "        0.92975207, 1.        ],\n",
       "       [0.65909091, 0.48      , 0.5       , 0.42857143, 0.57142857,\n",
       "        0.70661157, 1.        ],\n",
       "       [0.34090909, 0.4       , 0.5       , 0.57142857, 0.42857143,\n",
       "        0.4338843 , 1.        ],\n",
       "       [0.        , 0.16      , 0.25      , 0.28571429, 0.28571429,\n",
       "        0.26033058, 0.        ],\n",
       "       [0.27272727, 0.32      , 0.25      , 0.28571429, 0.71428571,\n",
       "        0.39669421, 1.        ],\n",
       "       [0.68181818, 0.68      , 0.5       , 0.57142857, 0.42857143,\n",
       "        0.68181818, 1.        ],\n",
       "       [0.63636364, 0.6       , 0.5       , 0.57142857, 0.57142857,\n",
       "        0.67768595, 1.        ],\n",
       "       [0.90909091, 0.92      , 1.        , 0.85714286, 1.        ,\n",
       "        0.88016529, 1.        ],\n",
       "       [0.36363636, 0.36      , 0.5       , 0.57142857, 0.71428571,\n",
       "        0.28512397, 0.        ],\n",
       "       [0.04545455, 0.16      , 0.25      , 0.71428571, 0.14285714,\n",
       "        0.08264463, 0.        ],\n",
       "       [0.36363636, 0.48      , 0.25      , 0.28571429, 0.57142857,\n",
       "        0.35950413, 0.        ],\n",
       "       [0.06818182, 0.28      , 0.5       , 0.71428571, 0.57142857,\n",
       "        0.50413223, 0.        ],\n",
       "       [0.54545455, 0.6       , 0.25      , 0.71428571, 0.57142857,\n",
       "        0.47933884, 0.        ],\n",
       "       [0.27272727, 0.44      , 0.5       , 0.42857143, 0.42857143,\n",
       "        0.34710744, 0.        ],\n",
       "       [0.22727273, 0.44      , 0.25      , 0.14285714, 0.28571429,\n",
       "        0.30578512, 0.        ],\n",
       "       [0.81818182, 0.92      , 0.25      , 0.85714286, 0.57142857,\n",
       "        0.80991736, 1.        ],\n",
       "       [0.52272727, 0.4       , 0.5       , 0.42857143, 0.57142857,\n",
       "        0.52479339, 1.        ],\n",
       "       [0.54545455, 0.32      , 0.5       , 0.42857143, 0.42857143,\n",
       "        0.12396694, 0.        ],\n",
       "       [0.70454545, 0.68      , 0.5       , 0.42857143, 0.42857143,\n",
       "        0.54545455, 1.        ],\n",
       "       [1.        , 1.        , 1.        , 0.85714286, 0.85714286,\n",
       "        0.90909091, 1.        ],\n",
       "       [0.54545455, 0.6       , 1.        , 1.        , 0.85714286,\n",
       "        0.75206612, 1.        ],\n",
       "       [0.63636364, 0.6       , 0.75      , 0.85714286, 0.71428571,\n",
       "        0.7231405 , 1.        ],\n",
       "       [0.97727273, 0.84      , 0.75      , 0.71428571, 0.57142857,\n",
       "        0.99173554, 1.        ],\n",
       "       [0.20454545, 0.48      , 0.25      , 0.28571429, 0.28571429,\n",
       "        0.4214876 , 0.        ],\n",
       "       [0.72727273, 0.84      , 1.        , 1.        , 1.        ,\n",
       "        0.8677686 , 1.        ],\n",
       "       [0.61363636, 0.72      , 0.75      , 0.71428571, 0.85714286,\n",
       "        0.75619835, 1.        ],\n",
       "       [0.75      , 0.76      , 1.        , 0.71428571, 1.        ,\n",
       "        0.78512397, 1.        ],\n",
       "       [0.61363636, 0.36      , 0.5       , 0.71428571, 0.71428571,\n",
       "        0.42975207, 1.        ],\n",
       "       [0.61363636, 0.52      , 1.        , 0.71428571, 0.71428571,\n",
       "        0.55371901, 1.        ],\n",
       "       [0.81818182, 0.92      , 1.        , 1.        , 1.        ,\n",
       "        0.92561983, 1.        ],\n",
       "       [0.43181818, 0.4       , 0.25      , 0.14285714, 0.28571429,\n",
       "        0.10330579, 0.        ],\n",
       "       [0.25      , 0.52      , 0.25      , 0.71428571, 0.57142857,\n",
       "        0.12396694, 0.        ],\n",
       "       [0.27272727, 0.56      , 0.25      , 0.42857143, 0.71428571,\n",
       "        0.4338843 , 0.        ],\n",
       "       [0.59090909, 0.6       , 0.75      , 0.71428571, 1.        ,\n",
       "        0.71487603, 1.        ],\n",
       "       [0.09090909, 0.08      , 0.25      , 0.42857143, 0.42857143,\n",
       "        0.2892562 , 1.        ],\n",
       "       [0.56818182, 0.68      , 1.        , 1.        , 1.        ,\n",
       "        0.68595041, 1.        ],\n",
       "       [0.11363636, 0.44      , 0.75      , 0.28571429, 0.42857143,\n",
       "        0.44214876, 0.        ],\n",
       "       [0.45454545, 0.24      , 0.25      , 0.28571429, 0.14285714,\n",
       "        0.38016529, 1.        ],\n",
       "       [0.25      , 0.6       , 0.75      , 0.71428571, 0.85714286,\n",
       "        0.40082645, 0.        ],\n",
       "       [0.        , 0.        , 0.25      , 0.42857143, 0.14285714,\n",
       "        0.05785124, 1.        ],\n",
       "       [0.36363636, 0.4       , 0.25      , 0.28571429, 0.42857143,\n",
       "        0.29752066, 0.        ],\n",
       "       [0.70454545, 0.32      , 0.5       , 0.71428571, 0.71428571,\n",
       "        0.37190083, 1.        ],\n",
       "       [0.15909091, 0.2       , 0.25      , 0.42857143, 0.57142857,\n",
       "        0.27272727, 1.        ],\n",
       "       [0.70454545, 0.72      , 0.75      , 0.85714286, 1.        ,\n",
       "        0.71900826, 0.        ],\n",
       "       [0.75      , 0.64      , 0.75      , 0.85714286, 0.71428571,\n",
       "        0.75619835, 1.        ],\n",
       "       [0.40909091, 0.52      , 0.75      , 0.85714286, 0.71428571,\n",
       "        0.67768595, 1.        ],\n",
       "       [0.47727273, 0.44      , 0.5       , 0.71428571, 0.57142857,\n",
       "        0.45454545, 1.        ],\n",
       "       [0.75      , 0.6       , 0.25      , 0.71428571, 0.42857143,\n",
       "        0.7231405 , 1.        ],\n",
       "       [0.77272727, 0.8       , 1.        , 0.85714286, 0.42857143,\n",
       "        0.80165289, 1.        ],\n",
       "       [0.59090909, 0.6       , 1.        , 1.        , 0.71428571,\n",
       "        0.70247934, 1.        ],\n",
       "       [0.        , 0.08      , 0.25      , 0.        , 0.14285714,\n",
       "        0.16528926, 0.        ],\n",
       "       [0.45454545, 0.4       , 0.5       , 0.42857143, 0.57142857,\n",
       "        0.54958678, 0.        ],\n",
       "       [0.36363636, 0.6       , 0.25      , 0.57142857, 0.42857143,\n",
       "        0.46694215, 0.        ],\n",
       "       [0.11363636, 0.12      , 0.        , 0.14285714, 0.42857143,\n",
       "        0.26033058, 1.        ],\n",
       "       [0.75      , 0.96      , 0.75      , 0.85714286, 0.85714286,\n",
       "        0.72727273, 1.        ],\n",
       "       [0.38636364, 0.56      , 0.5       , 0.71428571, 0.57142857,\n",
       "        0.66115702, 0.        ]])"
      ]
     },
     "execution_count": 21,
     "metadata": {},
     "output_type": "execute_result"
    }
   ],
   "source": [
    "x_test_scaled"
   ]
  },
  {
   "cell_type": "code",
   "execution_count": 22,
   "id": "de4baec3",
   "metadata": {},
   "outputs": [],
   "source": [
    "import tensorflow\n",
    "# from tensorflow.keras import Sequential\n",
    "# from tensorflow.keras.layers import Dense\n",
    "from tensorflow import keras\n",
    "from keras import Sequential\n",
    "from keras.layers import Dense"
   ]
  },
  {
   "cell_type": "code",
   "execution_count": 28,
   "id": "b27301db",
   "metadata": {},
   "outputs": [],
   "source": [
    "model = Sequential()"
   ]
  },
  {
   "cell_type": "code",
   "execution_count": 29,
   "id": "0d460f6b",
   "metadata": {},
   "outputs": [],
   "source": [
    "# adda layers\n",
    "model.add(Dense(7, activation='relu', input_dim = 7))\n",
    "model.add(Dense(1, activation='linear'))"
   ]
  },
  {
   "cell_type": "code",
   "execution_count": 30,
   "id": "bc12fece",
   "metadata": {},
   "outputs": [
    {
     "data": {
      "text/html": [
       "<pre style=\"white-space:pre;overflow-x:auto;line-height:normal;font-family:Menlo,'DejaVu Sans Mono',consolas,'Courier New',monospace\"><span style=\"font-weight: bold\">Model: \"sequential_1\"</span>\n",
       "</pre>\n"
      ],
      "text/plain": [
       "\u001b[1mModel: \"sequential_1\"\u001b[0m\n"
      ]
     },
     "metadata": {},
     "output_type": "display_data"
    },
    {
     "data": {
      "text/html": [
       "<pre style=\"white-space:pre;overflow-x:auto;line-height:normal;font-family:Menlo,'DejaVu Sans Mono',consolas,'Courier New',monospace\">┏━━━━━━━━━━━━━━━━━━━━━━━━━━━━━━━━━┳━━━━━━━━━━━━━━━━━━━━━━━━┳━━━━━━━━━━━━━━━┓\n",
       "┃<span style=\"font-weight: bold\"> Layer (type)                    </span>┃<span style=\"font-weight: bold\"> Output Shape           </span>┃<span style=\"font-weight: bold\">       Param # </span>┃\n",
       "┡━━━━━━━━━━━━━━━━━━━━━━━━━━━━━━━━━╇━━━━━━━━━━━━━━━━━━━━━━━━╇━━━━━━━━━━━━━━━┩\n",
       "│ dense_4 (<span style=\"color: #0087ff; text-decoration-color: #0087ff\">Dense</span>)                 │ (<span style=\"color: #00d7ff; text-decoration-color: #00d7ff\">None</span>, <span style=\"color: #00af00; text-decoration-color: #00af00\">7</span>)              │            <span style=\"color: #00af00; text-decoration-color: #00af00\">56</span> │\n",
       "├─────────────────────────────────┼────────────────────────┼───────────────┤\n",
       "│ dense_5 (<span style=\"color: #0087ff; text-decoration-color: #0087ff\">Dense</span>)                 │ (<span style=\"color: #00d7ff; text-decoration-color: #00d7ff\">None</span>, <span style=\"color: #00af00; text-decoration-color: #00af00\">1</span>)              │             <span style=\"color: #00af00; text-decoration-color: #00af00\">8</span> │\n",
       "└─────────────────────────────────┴────────────────────────┴───────────────┘\n",
       "</pre>\n"
      ],
      "text/plain": [
       "┏━━━━━━━━━━━━━━━━━━━━━━━━━━━━━━━━━┳━━━━━━━━━━━━━━━━━━━━━━━━┳━━━━━━━━━━━━━━━┓\n",
       "┃\u001b[1m \u001b[0m\u001b[1mLayer (type)                   \u001b[0m\u001b[1m \u001b[0m┃\u001b[1m \u001b[0m\u001b[1mOutput Shape          \u001b[0m\u001b[1m \u001b[0m┃\u001b[1m \u001b[0m\u001b[1m      Param #\u001b[0m\u001b[1m \u001b[0m┃\n",
       "┡━━━━━━━━━━━━━━━━━━━━━━━━━━━━━━━━━╇━━━━━━━━━━━━━━━━━━━━━━━━╇━━━━━━━━━━━━━━━┩\n",
       "│ dense_4 (\u001b[38;5;33mDense\u001b[0m)                 │ (\u001b[38;5;45mNone\u001b[0m, \u001b[38;5;34m7\u001b[0m)              │            \u001b[38;5;34m56\u001b[0m │\n",
       "├─────────────────────────────────┼────────────────────────┼───────────────┤\n",
       "│ dense_5 (\u001b[38;5;33mDense\u001b[0m)                 │ (\u001b[38;5;45mNone\u001b[0m, \u001b[38;5;34m1\u001b[0m)              │             \u001b[38;5;34m8\u001b[0m │\n",
       "└─────────────────────────────────┴────────────────────────┴───────────────┘\n"
      ]
     },
     "metadata": {},
     "output_type": "display_data"
    },
    {
     "data": {
      "text/html": [
       "<pre style=\"white-space:pre;overflow-x:auto;line-height:normal;font-family:Menlo,'DejaVu Sans Mono',consolas,'Courier New',monospace\"><span style=\"font-weight: bold\"> Total params: </span><span style=\"color: #00af00; text-decoration-color: #00af00\">64</span> (256.00 B)\n",
       "</pre>\n"
      ],
      "text/plain": [
       "\u001b[1m Total params: \u001b[0m\u001b[38;5;34m64\u001b[0m (256.00 B)\n"
      ]
     },
     "metadata": {},
     "output_type": "display_data"
    },
    {
     "data": {
      "text/html": [
       "<pre style=\"white-space:pre;overflow-x:auto;line-height:normal;font-family:Menlo,'DejaVu Sans Mono',consolas,'Courier New',monospace\"><span style=\"font-weight: bold\"> Trainable params: </span><span style=\"color: #00af00; text-decoration-color: #00af00\">64</span> (256.00 B)\n",
       "</pre>\n"
      ],
      "text/plain": [
       "\u001b[1m Trainable params: \u001b[0m\u001b[38;5;34m64\u001b[0m (256.00 B)\n"
      ]
     },
     "metadata": {},
     "output_type": "display_data"
    },
    {
     "data": {
      "text/html": [
       "<pre style=\"white-space:pre;overflow-x:auto;line-height:normal;font-family:Menlo,'DejaVu Sans Mono',consolas,'Courier New',monospace\"><span style=\"font-weight: bold\"> Non-trainable params: </span><span style=\"color: #00af00; text-decoration-color: #00af00\">0</span> (0.00 B)\n",
       "</pre>\n"
      ],
      "text/plain": [
       "\u001b[1m Non-trainable params: \u001b[0m\u001b[38;5;34m0\u001b[0m (0.00 B)\n"
      ]
     },
     "metadata": {},
     "output_type": "display_data"
    }
   ],
   "source": [
    "model.summary()"
   ]
  },
  {
   "cell_type": "code",
   "execution_count": 32,
   "id": "080bffa3",
   "metadata": {},
   "outputs": [],
   "source": [
    "# compile the model \n",
    "model.compile(loss='mean_squared_error', optimizer='adam', metrics=['Accuracy'])"
   ]
  },
  {
   "cell_type": "code",
   "execution_count": null,
   "id": "5c804782",
   "metadata": {},
   "outputs": [
    {
     "name": "stdout",
     "output_type": "stream",
     "text": [
      "Epoch 1/100\n",
      "\u001b[1m8/8\u001b[0m \u001b[32m━━━━━━━━━━━━━━━━━━━━\u001b[0m\u001b[37m\u001b[0m \u001b[1m3s\u001b[0m 34ms/step - Accuracy: 0.0000e+00 - loss: 0.6243 - val_Accuracy: 0.0000e+00 - val_loss: 0.6561\n",
      "Epoch 2/100\n",
      "\u001b[1m8/8\u001b[0m \u001b[32m━━━━━━━━━━━━━━━━━━━━\u001b[0m\u001b[37m\u001b[0m \u001b[1m0s\u001b[0m 13ms/step - Accuracy: 0.0000e+00 - loss: 0.4294 - val_Accuracy: 0.0000e+00 - val_loss: 0.4725\n",
      "Epoch 3/100\n",
      "\u001b[1m8/8\u001b[0m \u001b[32m━━━━━━━━━━━━━━━━━━━━\u001b[0m\u001b[37m\u001b[0m \u001b[1m0s\u001b[0m 13ms/step - Accuracy: 0.0000e+00 - loss: 0.3248 - val_Accuracy: 0.0000e+00 - val_loss: 0.3275\n",
      "Epoch 4/100\n",
      "\u001b[1m8/8\u001b[0m \u001b[32m━━━━━━━━━━━━━━━━━━━━\u001b[0m\u001b[37m\u001b[0m \u001b[1m0s\u001b[0m 15ms/step - Accuracy: 0.0000e+00 - loss: 0.2142 - val_Accuracy: 0.0000e+00 - val_loss: 0.2215\n",
      "Epoch 5/100\n",
      "\u001b[1m8/8\u001b[0m \u001b[32m━━━━━━━━━━━━━━━━━━━━\u001b[0m\u001b[37m\u001b[0m \u001b[1m0s\u001b[0m 15ms/step - Accuracy: 0.0000e+00 - loss: 0.1349 - val_Accuracy: 0.0000e+00 - val_loss: 0.1482\n",
      "Epoch 6/100\n",
      "\u001b[1m8/8\u001b[0m \u001b[32m━━━━━━━━━━━━━━━━━━━━\u001b[0m\u001b[37m\u001b[0m \u001b[1m0s\u001b[0m 14ms/step - Accuracy: 0.0000e+00 - loss: 0.0866 - val_Accuracy: 0.0000e+00 - val_loss: 0.0999\n",
      "Epoch 7/100\n",
      "\u001b[1m8/8\u001b[0m \u001b[32m━━━━━━━━━━━━━━━━━━━━\u001b[0m\u001b[37m\u001b[0m \u001b[1m0s\u001b[0m 11ms/step - Accuracy: 0.0000e+00 - loss: 0.0576 - val_Accuracy: 0.0000e+00 - val_loss: 0.0695\n",
      "Epoch 8/100\n",
      "\u001b[1m8/8\u001b[0m \u001b[32m━━━━━━━━━━━━━━━━━━━━\u001b[0m\u001b[37m\u001b[0m \u001b[1m0s\u001b[0m 13ms/step - Accuracy: 0.0000e+00 - loss: 0.0449 - val_Accuracy: 0.0000e+00 - val_loss: 0.0520\n",
      "Epoch 9/100\n",
      "\u001b[1m8/8\u001b[0m \u001b[32m━━━━━━━━━━━━━━━━━━━━\u001b[0m\u001b[37m\u001b[0m \u001b[1m0s\u001b[0m 13ms/step - Accuracy: 0.0000e+00 - loss: 0.0341 - val_Accuracy: 0.0000e+00 - val_loss: 0.0422\n",
      "Epoch 10/100\n",
      "\u001b[1m8/8\u001b[0m \u001b[32m━━━━━━━━━━━━━━━━━━━━\u001b[0m\u001b[37m\u001b[0m \u001b[1m0s\u001b[0m 13ms/step - Accuracy: 0.0000e+00 - loss: 0.0299 - val_Accuracy: 0.0000e+00 - val_loss: 0.0367\n",
      "Epoch 11/100\n",
      "\u001b[1m8/8\u001b[0m \u001b[32m━━━━━━━━━━━━━━━━━━━━\u001b[0m\u001b[37m\u001b[0m \u001b[1m0s\u001b[0m 14ms/step - Accuracy: 0.0000e+00 - loss: 0.0258 - val_Accuracy: 0.0000e+00 - val_loss: 0.0336\n",
      "Epoch 12/100\n",
      "\u001b[1m8/8\u001b[0m \u001b[32m━━━━━━━━━━━━━━━━━━━━\u001b[0m\u001b[37m\u001b[0m \u001b[1m0s\u001b[0m 13ms/step - Accuracy: 0.0000e+00 - loss: 0.0263 - val_Accuracy: 0.0000e+00 - val_loss: 0.0320\n",
      "Epoch 13/100\n",
      "\u001b[1m8/8\u001b[0m \u001b[32m━━━━━━━━━━━━━━━━━━━━\u001b[0m\u001b[37m\u001b[0m \u001b[1m0s\u001b[0m 14ms/step - Accuracy: 0.0000e+00 - loss: 0.0256 - val_Accuracy: 0.0000e+00 - val_loss: 0.0312\n",
      "Epoch 14/100\n",
      "\u001b[1m8/8\u001b[0m \u001b[32m━━━━━━━━━━━━━━━━━━━━\u001b[0m\u001b[37m\u001b[0m \u001b[1m0s\u001b[0m 11ms/step - Accuracy: 0.0000e+00 - loss: 0.0245 - val_Accuracy: 0.0000e+00 - val_loss: 0.0307\n",
      "Epoch 15/100\n",
      "\u001b[1m8/8\u001b[0m \u001b[32m━━━━━━━━━━━━━━━━━━━━\u001b[0m\u001b[37m\u001b[0m \u001b[1m0s\u001b[0m 14ms/step - Accuracy: 0.0000e+00 - loss: 0.0255 - val_Accuracy: 0.0000e+00 - val_loss: 0.0303\n",
      "Epoch 16/100\n",
      "\u001b[1m8/8\u001b[0m \u001b[32m━━━━━━━━━━━━━━━━━━━━\u001b[0m\u001b[37m\u001b[0m \u001b[1m0s\u001b[0m 13ms/step - Accuracy: 0.0000e+00 - loss: 0.0253 - val_Accuracy: 0.0000e+00 - val_loss: 0.0300\n",
      "Epoch 17/100\n",
      "\u001b[1m8/8\u001b[0m \u001b[32m━━━━━━━━━━━━━━━━━━━━\u001b[0m\u001b[37m\u001b[0m \u001b[1m0s\u001b[0m 14ms/step - Accuracy: 0.0000e+00 - loss: 0.0239 - val_Accuracy: 0.0000e+00 - val_loss: 0.0296\n",
      "Epoch 18/100\n",
      "\u001b[1m8/8\u001b[0m \u001b[32m━━━━━━━━━━━━━━━━━━━━\u001b[0m\u001b[37m\u001b[0m \u001b[1m0s\u001b[0m 20ms/step - Accuracy: 0.0000e+00 - loss: 0.0245 - val_Accuracy: 0.0000e+00 - val_loss: 0.0293\n",
      "Epoch 19/100\n",
      "\u001b[1m8/8\u001b[0m \u001b[32m━━━━━━━━━━━━━━━━━━━━\u001b[0m\u001b[37m\u001b[0m \u001b[1m0s\u001b[0m 16ms/step - Accuracy: 0.0000e+00 - loss: 0.0228 - val_Accuracy: 0.0000e+00 - val_loss: 0.0289\n",
      "Epoch 20/100\n",
      "\u001b[1m8/8\u001b[0m \u001b[32m━━━━━━━━━━━━━━━━━━━━\u001b[0m\u001b[37m\u001b[0m \u001b[1m0s\u001b[0m 9ms/step - Accuracy: 0.0000e+00 - loss: 0.0249 - val_Accuracy: 0.0000e+00 - val_loss: 0.0286\n",
      "Epoch 21/100\n",
      "\u001b[1m8/8\u001b[0m \u001b[32m━━━━━━━━━━━━━━━━━━━━\u001b[0m\u001b[37m\u001b[0m \u001b[1m0s\u001b[0m 12ms/step - Accuracy: 0.0000e+00 - loss: 0.0248 - val_Accuracy: 0.0000e+00 - val_loss: 0.0282\n",
      "Epoch 22/100\n",
      "\u001b[1m8/8\u001b[0m \u001b[32m━━━━━━━━━━━━━━━━━━━━\u001b[0m\u001b[37m\u001b[0m \u001b[1m0s\u001b[0m 9ms/step - Accuracy: 0.0000e+00 - loss: 0.0245 - val_Accuracy: 0.0000e+00 - val_loss: 0.0278\n",
      "Epoch 23/100\n",
      "\u001b[1m8/8\u001b[0m \u001b[32m━━━━━━━━━━━━━━━━━━━━\u001b[0m\u001b[37m\u001b[0m \u001b[1m0s\u001b[0m 10ms/step - Accuracy: 0.0000e+00 - loss: 0.0246 - val_Accuracy: 0.0000e+00 - val_loss: 0.0272\n",
      "Epoch 24/100\n",
      "\u001b[1m8/8\u001b[0m \u001b[32m━━━━━━━━━━━━━━━━━━━━\u001b[0m\u001b[37m\u001b[0m \u001b[1m0s\u001b[0m 12ms/step - Accuracy: 0.0000e+00 - loss: 0.0224 - val_Accuracy: 0.0000e+00 - val_loss: 0.0268\n",
      "Epoch 25/100\n",
      "\u001b[1m8/8\u001b[0m \u001b[32m━━━━━━━━━━━━━━━━━━━━\u001b[0m\u001b[37m\u001b[0m \u001b[1m0s\u001b[0m 9ms/step - Accuracy: 0.0000e+00 - loss: 0.0241 - val_Accuracy: 0.0000e+00 - val_loss: 0.0265\n",
      "Epoch 26/100\n",
      "\u001b[1m8/8\u001b[0m \u001b[32m━━━━━━━━━━━━━━━━━━━━\u001b[0m\u001b[37m\u001b[0m \u001b[1m0s\u001b[0m 11ms/step - Accuracy: 0.0000e+00 - loss: 0.0239 - val_Accuracy: 0.0000e+00 - val_loss: 0.0262\n",
      "Epoch 27/100\n",
      "\u001b[1m8/8\u001b[0m \u001b[32m━━━━━━━━━━━━━━━━━━━━\u001b[0m\u001b[37m\u001b[0m \u001b[1m0s\u001b[0m 20ms/step - Accuracy: 0.0000e+00 - loss: 0.0203 - val_Accuracy: 0.0000e+00 - val_loss: 0.0258\n",
      "Epoch 28/100\n",
      "\u001b[1m8/8\u001b[0m \u001b[32m━━━━━━━━━━━━━━━━━━━━\u001b[0m\u001b[37m\u001b[0m \u001b[1m0s\u001b[0m 13ms/step - Accuracy: 0.0000e+00 - loss: 0.0224 - val_Accuracy: 0.0000e+00 - val_loss: 0.0252\n",
      "Epoch 29/100\n",
      "\u001b[1m8/8\u001b[0m \u001b[32m━━━━━━━━━━━━━━━━━━━━\u001b[0m\u001b[37m\u001b[0m \u001b[1m0s\u001b[0m 10ms/step - Accuracy: 0.0000e+00 - loss: 0.0226 - val_Accuracy: 0.0000e+00 - val_loss: 0.0249\n",
      "Epoch 30/100\n",
      "\u001b[1m8/8\u001b[0m \u001b[32m━━━━━━━━━━━━━━━━━━━━\u001b[0m\u001b[37m\u001b[0m \u001b[1m0s\u001b[0m 9ms/step - Accuracy: 0.0000e+00 - loss: 0.0192 - val_Accuracy: 0.0000e+00 - val_loss: 0.0245\n",
      "Epoch 31/100\n",
      "\u001b[1m8/8\u001b[0m \u001b[32m━━━━━━━━━━━━━━━━━━━━\u001b[0m\u001b[37m\u001b[0m \u001b[1m0s\u001b[0m 13ms/step - Accuracy: 0.0000e+00 - loss: 0.0181 - val_Accuracy: 0.0000e+00 - val_loss: 0.0242\n",
      "Epoch 32/100\n",
      "\u001b[1m8/8\u001b[0m \u001b[32m━━━━━━━━━━━━━━━━━━━━\u001b[0m\u001b[37m\u001b[0m \u001b[1m0s\u001b[0m 10ms/step - Accuracy: 0.0000e+00 - loss: 0.0184 - val_Accuracy: 0.0000e+00 - val_loss: 0.0239\n",
      "Epoch 33/100\n",
      "\u001b[1m8/8\u001b[0m \u001b[32m━━━━━━━━━━━━━━━━━━━━\u001b[0m\u001b[37m\u001b[0m \u001b[1m0s\u001b[0m 10ms/step - Accuracy: 0.0000e+00 - loss: 0.0204 - val_Accuracy: 0.0000e+00 - val_loss: 0.0237\n",
      "Epoch 34/100\n",
      "\u001b[1m8/8\u001b[0m \u001b[32m━━━━━━━━━━━━━━━━━━━━\u001b[0m\u001b[37m\u001b[0m \u001b[1m0s\u001b[0m 10ms/step - Accuracy: 0.0000e+00 - loss: 0.0198 - val_Accuracy: 0.0000e+00 - val_loss: 0.0232\n",
      "Epoch 35/100\n",
      "\u001b[1m8/8\u001b[0m \u001b[32m━━━━━━━━━━━━━━━━━━━━\u001b[0m\u001b[37m\u001b[0m \u001b[1m0s\u001b[0m 10ms/step - Accuracy: 0.0000e+00 - loss: 0.0193 - val_Accuracy: 0.0000e+00 - val_loss: 0.0227\n",
      "Epoch 36/100\n",
      "\u001b[1m8/8\u001b[0m \u001b[32m━━━━━━━━━━━━━━━━━━━━\u001b[0m\u001b[37m\u001b[0m \u001b[1m0s\u001b[0m 9ms/step - Accuracy: 0.0000e+00 - loss: 0.0179 - val_Accuracy: 0.0000e+00 - val_loss: 0.0223\n",
      "Epoch 37/100\n",
      "\u001b[1m8/8\u001b[0m \u001b[32m━━━━━━━━━━━━━━━━━━━━\u001b[0m\u001b[37m\u001b[0m \u001b[1m0s\u001b[0m 12ms/step - Accuracy: 0.0000e+00 - loss: 0.0178 - val_Accuracy: 0.0000e+00 - val_loss: 0.0220\n",
      "Epoch 38/100\n",
      "\u001b[1m8/8\u001b[0m \u001b[32m━━━━━━━━━━━━━━━━━━━━\u001b[0m\u001b[37m\u001b[0m \u001b[1m0s\u001b[0m 13ms/step - Accuracy: 0.0000e+00 - loss: 0.0176 - val_Accuracy: 0.0000e+00 - val_loss: 0.0218\n",
      "Epoch 39/100\n",
      "\u001b[1m8/8\u001b[0m \u001b[32m━━━━━━━━━━━━━━━━━━━━\u001b[0m\u001b[37m\u001b[0m \u001b[1m0s\u001b[0m 12ms/step - Accuracy: 0.0000e+00 - loss: 0.0184 - val_Accuracy: 0.0000e+00 - val_loss: 0.0214\n",
      "Epoch 40/100\n",
      "\u001b[1m8/8\u001b[0m \u001b[32m━━━━━━━━━━━━━━━━━━━━\u001b[0m\u001b[37m\u001b[0m \u001b[1m0s\u001b[0m 11ms/step - Accuracy: 0.0000e+00 - loss: 0.0159 - val_Accuracy: 0.0000e+00 - val_loss: 0.0211\n",
      "Epoch 41/100\n",
      "\u001b[1m8/8\u001b[0m \u001b[32m━━━━━━━━━━━━━━━━━━━━\u001b[0m\u001b[37m\u001b[0m \u001b[1m0s\u001b[0m 9ms/step - Accuracy: 0.0000e+00 - loss: 0.0162 - val_Accuracy: 0.0000e+00 - val_loss: 0.0209\n",
      "Epoch 42/100\n",
      "\u001b[1m8/8\u001b[0m \u001b[32m━━━━━━━━━━━━━━━━━━━━\u001b[0m\u001b[37m\u001b[0m \u001b[1m0s\u001b[0m 13ms/step - Accuracy: 0.0000e+00 - loss: 0.0168 - val_Accuracy: 0.0000e+00 - val_loss: 0.0205\n",
      "Epoch 43/100\n",
      "\u001b[1m8/8\u001b[0m \u001b[32m━━━━━━━━━━━━━━━━━━━━\u001b[0m\u001b[37m\u001b[0m \u001b[1m0s\u001b[0m 11ms/step - Accuracy: 0.0000e+00 - loss: 0.0167 - val_Accuracy: 0.0000e+00 - val_loss: 0.0201\n",
      "Epoch 44/100\n",
      "\u001b[1m8/8\u001b[0m \u001b[32m━━━━━━━━━━━━━━━━━━━━\u001b[0m\u001b[37m\u001b[0m \u001b[1m0s\u001b[0m 12ms/step - Accuracy: 0.0000e+00 - loss: 0.0182 - val_Accuracy: 0.0000e+00 - val_loss: 0.0198\n",
      "Epoch 45/100\n",
      "\u001b[1m8/8\u001b[0m \u001b[32m━━━━━━━━━━━━━━━━━━━━\u001b[0m\u001b[37m\u001b[0m \u001b[1m0s\u001b[0m 10ms/step - Accuracy: 0.0000e+00 - loss: 0.0151 - val_Accuracy: 0.0000e+00 - val_loss: 0.0194\n",
      "Epoch 46/100\n",
      "\u001b[1m8/8\u001b[0m \u001b[32m━━━━━━━━━━━━━━━━━━━━\u001b[0m\u001b[37m\u001b[0m \u001b[1m0s\u001b[0m 10ms/step - Accuracy: 0.0000e+00 - loss: 0.0158 - val_Accuracy: 0.0000e+00 - val_loss: 0.0191\n",
      "Epoch 47/100\n",
      "\u001b[1m8/8\u001b[0m \u001b[32m━━━━━━━━━━━━━━━━━━━━\u001b[0m\u001b[37m\u001b[0m \u001b[1m0s\u001b[0m 10ms/step - Accuracy: 0.0000e+00 - loss: 0.0160 - val_Accuracy: 0.0000e+00 - val_loss: 0.0188\n",
      "Epoch 48/100\n",
      "\u001b[1m8/8\u001b[0m \u001b[32m━━━━━━━━━━━━━━━━━━━━\u001b[0m\u001b[37m\u001b[0m \u001b[1m0s\u001b[0m 10ms/step - Accuracy: 0.0000e+00 - loss: 0.0154 - val_Accuracy: 0.0000e+00 - val_loss: 0.0189\n",
      "Epoch 49/100\n",
      "\u001b[1m8/8\u001b[0m \u001b[32m━━━━━━━━━━━━━━━━━━━━\u001b[0m\u001b[37m\u001b[0m \u001b[1m0s\u001b[0m 9ms/step - Accuracy: 0.0000e+00 - loss: 0.0145 - val_Accuracy: 0.0000e+00 - val_loss: 0.0185\n",
      "Epoch 50/100\n",
      "\u001b[1m8/8\u001b[0m \u001b[32m━━━━━━━━━━━━━━━━━━━━\u001b[0m\u001b[37m\u001b[0m \u001b[1m0s\u001b[0m 9ms/step - Accuracy: 0.0000e+00 - loss: 0.0149 - val_Accuracy: 0.0000e+00 - val_loss: 0.0182\n",
      "Epoch 51/100\n",
      "\u001b[1m8/8\u001b[0m \u001b[32m━━━━━━━━━━━━━━━━━━━━\u001b[0m\u001b[37m\u001b[0m \u001b[1m0s\u001b[0m 12ms/step - Accuracy: 0.0000e+00 - loss: 0.0156 - val_Accuracy: 0.0000e+00 - val_loss: 0.0179\n",
      "Epoch 52/100\n",
      "\u001b[1m8/8\u001b[0m \u001b[32m━━━━━━━━━━━━━━━━━━━━\u001b[0m\u001b[37m\u001b[0m \u001b[1m0s\u001b[0m 13ms/step - Accuracy: 0.0000e+00 - loss: 0.0154 - val_Accuracy: 0.0000e+00 - val_loss: 0.0176\n",
      "Epoch 53/100\n",
      "\u001b[1m8/8\u001b[0m \u001b[32m━━━━━━━━━━━━━━━━━━━━\u001b[0m\u001b[37m\u001b[0m \u001b[1m0s\u001b[0m 10ms/step - Accuracy: 0.0000e+00 - loss: 0.0142 - val_Accuracy: 0.0000e+00 - val_loss: 0.0172\n",
      "Epoch 54/100\n",
      "\u001b[1m8/8\u001b[0m \u001b[32m━━━━━━━━━━━━━━━━━━━━\u001b[0m\u001b[37m\u001b[0m \u001b[1m0s\u001b[0m 12ms/step - Accuracy: 0.0000e+00 - loss: 0.0136 - val_Accuracy: 0.0000e+00 - val_loss: 0.0170\n",
      "Epoch 55/100\n",
      "\u001b[1m8/8\u001b[0m \u001b[32m━━━━━━━━━━━━━━━━━━━━\u001b[0m\u001b[37m\u001b[0m \u001b[1m0s\u001b[0m 12ms/step - Accuracy: 0.0000e+00 - loss: 0.0121 - val_Accuracy: 0.0000e+00 - val_loss: 0.0169\n",
      "Epoch 56/100\n",
      "\u001b[1m8/8\u001b[0m \u001b[32m━━━━━━━━━━━━━━━━━━━━\u001b[0m\u001b[37m\u001b[0m \u001b[1m0s\u001b[0m 10ms/step - Accuracy: 0.0000e+00 - loss: 0.0138 - val_Accuracy: 0.0000e+00 - val_loss: 0.0166\n",
      "Epoch 57/100\n",
      "\u001b[1m8/8\u001b[0m \u001b[32m━━━━━━━━━━━━━━━━━━━━\u001b[0m\u001b[37m\u001b[0m \u001b[1m0s\u001b[0m 10ms/step - Accuracy: 0.0000e+00 - loss: 0.0131 - val_Accuracy: 0.0000e+00 - val_loss: 0.0161\n",
      "Epoch 58/100\n",
      "\u001b[1m8/8\u001b[0m \u001b[32m━━━━━━━━━━━━━━━━━━━━\u001b[0m\u001b[37m\u001b[0m \u001b[1m0s\u001b[0m 11ms/step - Accuracy: 0.0000e+00 - loss: 0.0134 - val_Accuracy: 0.0000e+00 - val_loss: 0.0159\n",
      "Epoch 59/100\n",
      "\u001b[1m8/8\u001b[0m \u001b[32m━━━━━━━━━━━━━━━━━━━━\u001b[0m\u001b[37m\u001b[0m \u001b[1m0s\u001b[0m 11ms/step - Accuracy: 0.0000e+00 - loss: 0.0139 - val_Accuracy: 0.0000e+00 - val_loss: 0.0158\n",
      "Epoch 60/100\n",
      "\u001b[1m8/8\u001b[0m \u001b[32m━━━━━━━━━━━━━━━━━━━━\u001b[0m\u001b[37m\u001b[0m \u001b[1m0s\u001b[0m 9ms/step - Accuracy: 0.0000e+00 - loss: 0.0132 - val_Accuracy: 0.0000e+00 - val_loss: 0.0157\n",
      "Epoch 61/100\n",
      "\u001b[1m8/8\u001b[0m \u001b[32m━━━━━━━━━━━━━━━━━━━━\u001b[0m\u001b[37m\u001b[0m \u001b[1m0s\u001b[0m 10ms/step - Accuracy: 0.0000e+00 - loss: 0.0121 - val_Accuracy: 0.0000e+00 - val_loss: 0.0154\n",
      "Epoch 62/100\n",
      "\u001b[1m8/8\u001b[0m \u001b[32m━━━━━━━━━━━━━━━━━━━━\u001b[0m\u001b[37m\u001b[0m \u001b[1m0s\u001b[0m 9ms/step - Accuracy: 0.0000e+00 - loss: 0.0113 - val_Accuracy: 0.0000e+00 - val_loss: 0.0152\n",
      "Epoch 63/100\n",
      "\u001b[1m8/8\u001b[0m \u001b[32m━━━━━━━━━━━━━━━━━━━━\u001b[0m\u001b[37m\u001b[0m \u001b[1m0s\u001b[0m 10ms/step - Accuracy: 0.0000e+00 - loss: 0.0125 - val_Accuracy: 0.0000e+00 - val_loss: 0.0149\n",
      "Epoch 64/100\n",
      "\u001b[1m8/8\u001b[0m \u001b[32m━━━━━━━━━━━━━━━━━━━━\u001b[0m\u001b[37m\u001b[0m \u001b[1m0s\u001b[0m 10ms/step - Accuracy: 0.0000e+00 - loss: 0.0118 - val_Accuracy: 0.0000e+00 - val_loss: 0.0146\n",
      "Epoch 65/100\n",
      "\u001b[1m8/8\u001b[0m \u001b[32m━━━━━━━━━━━━━━━━━━━━\u001b[0m\u001b[37m\u001b[0m \u001b[1m0s\u001b[0m 10ms/step - Accuracy: 0.0000e+00 - loss: 0.0126 - val_Accuracy: 0.0000e+00 - val_loss: 0.0143\n",
      "Epoch 66/100\n",
      "\u001b[1m8/8\u001b[0m \u001b[32m━━━━━━━━━━━━━━━━━━━━\u001b[0m\u001b[37m\u001b[0m \u001b[1m0s\u001b[0m 14ms/step - Accuracy: 0.0000e+00 - loss: 0.0109 - val_Accuracy: 0.0000e+00 - val_loss: 0.0143\n",
      "Epoch 67/100\n",
      "\u001b[1m8/8\u001b[0m \u001b[32m━━━━━━━━━━━━━━━━━━━━\u001b[0m\u001b[37m\u001b[0m \u001b[1m0s\u001b[0m 9ms/step - Accuracy: 0.0000e+00 - loss: 0.0117 - val_Accuracy: 0.0000e+00 - val_loss: 0.0140\n",
      "Epoch 68/100\n",
      "\u001b[1m8/8\u001b[0m \u001b[32m━━━━━━━━━━━━━━━━━━━━\u001b[0m\u001b[37m\u001b[0m \u001b[1m0s\u001b[0m 9ms/step - Accuracy: 0.0000e+00 - loss: 0.0122 - val_Accuracy: 0.0000e+00 - val_loss: 0.0139\n",
      "Epoch 69/100\n",
      "\u001b[1m8/8\u001b[0m \u001b[32m━━━━━━━━━━━━━━━━━━━━\u001b[0m\u001b[37m\u001b[0m \u001b[1m0s\u001b[0m 10ms/step - Accuracy: 0.0000e+00 - loss: 0.0120 - val_Accuracy: 0.0000e+00 - val_loss: 0.0136\n",
      "Epoch 70/100\n",
      "\u001b[1m8/8\u001b[0m \u001b[32m━━━━━━━━━━━━━━━━━━━━\u001b[0m\u001b[37m\u001b[0m \u001b[1m0s\u001b[0m 10ms/step - Accuracy: 0.0000e+00 - loss: 0.0132 - val_Accuracy: 0.0000e+00 - val_loss: 0.0135\n",
      "Epoch 71/100\n",
      "\u001b[1m8/8\u001b[0m \u001b[32m━━━━━━━━━━━━━━━━━━━━\u001b[0m\u001b[37m\u001b[0m \u001b[1m0s\u001b[0m 10ms/step - Accuracy: 0.0000e+00 - loss: 0.0116 - val_Accuracy: 0.0000e+00 - val_loss: 0.0134\n",
      "Epoch 72/100\n",
      "\u001b[1m8/8\u001b[0m \u001b[32m━━━━━━━━━━━━━━━━━━━━\u001b[0m\u001b[37m\u001b[0m \u001b[1m0s\u001b[0m 12ms/step - Accuracy: 0.0000e+00 - loss: 0.0111 - val_Accuracy: 0.0000e+00 - val_loss: 0.0131\n",
      "Epoch 73/100\n",
      "\u001b[1m8/8\u001b[0m \u001b[32m━━━━━━━━━━━━━━━━━━━━\u001b[0m\u001b[37m\u001b[0m \u001b[1m0s\u001b[0m 14ms/step - Accuracy: 0.0000e+00 - loss: 0.0098 - val_Accuracy: 0.0000e+00 - val_loss: 0.0129\n",
      "Epoch 74/100\n",
      "\u001b[1m8/8\u001b[0m \u001b[32m━━━━━━━━━━━━━━━━━━━━\u001b[0m\u001b[37m\u001b[0m \u001b[1m0s\u001b[0m 9ms/step - Accuracy: 0.0000e+00 - loss: 0.0104 - val_Accuracy: 0.0000e+00 - val_loss: 0.0127\n",
      "Epoch 75/100\n",
      "\u001b[1m8/8\u001b[0m \u001b[32m━━━━━━━━━━━━━━━━━━━━\u001b[0m\u001b[37m\u001b[0m \u001b[1m0s\u001b[0m 10ms/step - Accuracy: 0.0000e+00 - loss: 0.0116 - val_Accuracy: 0.0000e+00 - val_loss: 0.0126\n",
      "Epoch 76/100\n",
      "\u001b[1m8/8\u001b[0m \u001b[32m━━━━━━━━━━━━━━━━━━━━\u001b[0m\u001b[37m\u001b[0m \u001b[1m0s\u001b[0m 10ms/step - Accuracy: 0.0000e+00 - loss: 0.0093 - val_Accuracy: 0.0000e+00 - val_loss: 0.0125\n",
      "Epoch 77/100\n",
      "\u001b[1m8/8\u001b[0m \u001b[32m━━━━━━━━━━━━━━━━━━━━\u001b[0m\u001b[37m\u001b[0m \u001b[1m0s\u001b[0m 10ms/step - Accuracy: 0.0000e+00 - loss: 0.0102 - val_Accuracy: 0.0000e+00 - val_loss: 0.0123\n",
      "Epoch 78/100\n",
      "\u001b[1m8/8\u001b[0m \u001b[32m━━━━━━━━━━━━━━━━━━━━\u001b[0m\u001b[37m\u001b[0m \u001b[1m0s\u001b[0m 13ms/step - Accuracy: 0.0000e+00 - loss: 0.0104 - val_Accuracy: 0.0000e+00 - val_loss: 0.0122\n",
      "Epoch 79/100\n",
      "\u001b[1m8/8\u001b[0m \u001b[32m━━━━━━━━━━━━━━━━━━━━\u001b[0m\u001b[37m\u001b[0m \u001b[1m0s\u001b[0m 10ms/step - Accuracy: 0.0000e+00 - loss: 0.0097 - val_Accuracy: 0.0000e+00 - val_loss: 0.0120\n",
      "Epoch 80/100\n",
      "\u001b[1m8/8\u001b[0m \u001b[32m━━━━━━━━━━━━━━━━━━━━\u001b[0m\u001b[37m\u001b[0m \u001b[1m0s\u001b[0m 10ms/step - Accuracy: 0.0000e+00 - loss: 0.0095 - val_Accuracy: 0.0000e+00 - val_loss: 0.0118\n",
      "Epoch 81/100\n",
      "\u001b[1m8/8\u001b[0m \u001b[32m━━━━━━━━━━━━━━━━━━━━\u001b[0m\u001b[37m\u001b[0m \u001b[1m0s\u001b[0m 9ms/step - Accuracy: 0.0000e+00 - loss: 0.0092 - val_Accuracy: 0.0000e+00 - val_loss: 0.0117\n",
      "Epoch 82/100\n",
      "\u001b[1m8/8\u001b[0m \u001b[32m━━━━━━━━━━━━━━━━━━━━\u001b[0m\u001b[37m\u001b[0m \u001b[1m0s\u001b[0m 10ms/step - Accuracy: 0.0000e+00 - loss: 0.0090 - val_Accuracy: 0.0000e+00 - val_loss: 0.0114\n",
      "Epoch 83/100\n",
      "\u001b[1m8/8\u001b[0m \u001b[32m━━━━━━━━━━━━━━━━━━━━\u001b[0m\u001b[37m\u001b[0m \u001b[1m0s\u001b[0m 21ms/step - Accuracy: 0.0000e+00 - loss: 0.0089 - val_Accuracy: 0.0000e+00 - val_loss: 0.0114\n",
      "Epoch 84/100\n",
      "\u001b[1m8/8\u001b[0m \u001b[32m━━━━━━━━━━━━━━━━━━━━\u001b[0m\u001b[37m\u001b[0m \u001b[1m0s\u001b[0m 9ms/step - Accuracy: 0.0000e+00 - loss: 0.0091 - val_Accuracy: 0.0000e+00 - val_loss: 0.0113\n",
      "Epoch 85/100\n",
      "\u001b[1m8/8\u001b[0m \u001b[32m━━━━━━━━━━━━━━━━━━━━\u001b[0m\u001b[37m\u001b[0m \u001b[1m0s\u001b[0m 12ms/step - Accuracy: 0.0000e+00 - loss: 0.0093 - val_Accuracy: 0.0000e+00 - val_loss: 0.0112\n",
      "Epoch 86/100\n",
      "\u001b[1m8/8\u001b[0m \u001b[32m━━━━━━━━━━━━━━━━━━━━\u001b[0m\u001b[37m\u001b[0m \u001b[1m0s\u001b[0m 11ms/step - Accuracy: 0.0000e+00 - loss: 0.0088 - val_Accuracy: 0.0000e+00 - val_loss: 0.0108\n",
      "Epoch 87/100\n",
      "\u001b[1m8/8\u001b[0m \u001b[32m━━━━━━━━━━━━━━━━━━━━\u001b[0m\u001b[37m\u001b[0m \u001b[1m0s\u001b[0m 10ms/step - Accuracy: 0.0000e+00 - loss: 0.0090 - val_Accuracy: 0.0000e+00 - val_loss: 0.0107\n",
      "Epoch 88/100\n",
      "\u001b[1m8/8\u001b[0m \u001b[32m━━━━━━━━━━━━━━━━━━━━\u001b[0m\u001b[37m\u001b[0m \u001b[1m0s\u001b[0m 9ms/step - Accuracy: 0.0000e+00 - loss: 0.0093 - val_Accuracy: 0.0000e+00 - val_loss: 0.0106\n",
      "Epoch 89/100\n",
      "\u001b[1m8/8\u001b[0m \u001b[32m━━━━━━━━━━━━━━━━━━━━\u001b[0m\u001b[37m\u001b[0m \u001b[1m0s\u001b[0m 10ms/step - Accuracy: 0.0000e+00 - loss: 0.0094 - val_Accuracy: 0.0000e+00 - val_loss: 0.0106\n",
      "Epoch 90/100\n",
      "\u001b[1m8/8\u001b[0m \u001b[32m━━━━━━━━━━━━━━━━━━━━\u001b[0m\u001b[37m\u001b[0m \u001b[1m0s\u001b[0m 12ms/step - Accuracy: 0.0000e+00 - loss: 0.0096 - val_Accuracy: 0.0000e+00 - val_loss: 0.0105\n",
      "Epoch 91/100\n",
      "\u001b[1m8/8\u001b[0m \u001b[32m━━━━━━━━━━━━━━━━━━━━\u001b[0m\u001b[37m\u001b[0m \u001b[1m0s\u001b[0m 10ms/step - Accuracy: 0.0000e+00 - loss: 0.0091 - val_Accuracy: 0.0000e+00 - val_loss: 0.0104\n",
      "Epoch 92/100\n",
      "\u001b[1m8/8\u001b[0m \u001b[32m━━━━━━━━━━━━━━━━━━━━\u001b[0m\u001b[37m\u001b[0m \u001b[1m0s\u001b[0m 12ms/step - Accuracy: 0.0000e+00 - loss: 0.0092 - val_Accuracy: 0.0000e+00 - val_loss: 0.0102\n",
      "Epoch 93/100\n",
      "\u001b[1m8/8\u001b[0m \u001b[32m━━━━━━━━━━━━━━━━━━━━\u001b[0m\u001b[37m\u001b[0m \u001b[1m0s\u001b[0m 12ms/step - Accuracy: 0.0000e+00 - loss: 0.0090 - val_Accuracy: 0.0000e+00 - val_loss: 0.0101\n",
      "Epoch 94/100\n",
      "\u001b[1m8/8\u001b[0m \u001b[32m━━━━━━━━━━━━━━━━━━━━\u001b[0m\u001b[37m\u001b[0m \u001b[1m0s\u001b[0m 10ms/step - Accuracy: 0.0000e+00 - loss: 0.0083 - val_Accuracy: 0.0000e+00 - val_loss: 0.0100\n",
      "Epoch 95/100\n",
      "\u001b[1m8/8\u001b[0m \u001b[32m━━━━━━━━━━━━━━━━━━━━\u001b[0m\u001b[37m\u001b[0m \u001b[1m0s\u001b[0m 10ms/step - Accuracy: 0.0000e+00 - loss: 0.0091 - val_Accuracy: 0.0000e+00 - val_loss: 0.0098\n",
      "Epoch 96/100\n",
      "\u001b[1m8/8\u001b[0m \u001b[32m━━━━━━━━━━━━━━━━━━━━\u001b[0m\u001b[37m\u001b[0m \u001b[1m0s\u001b[0m 10ms/step - Accuracy: 0.0000e+00 - loss: 0.0090 - val_Accuracy: 0.0000e+00 - val_loss: 0.0097\n",
      "Epoch 97/100\n",
      "\u001b[1m8/8\u001b[0m \u001b[32m━━━━━━━━━━━━━━━━━━━━\u001b[0m\u001b[37m\u001b[0m \u001b[1m0s\u001b[0m 10ms/step - Accuracy: 0.0000e+00 - loss: 0.0079 - val_Accuracy: 0.0000e+00 - val_loss: 0.0097\n",
      "Epoch 98/100\n",
      "\u001b[1m8/8\u001b[0m \u001b[32m━━━━━━━━━━━━━━━━━━━━\u001b[0m\u001b[37m\u001b[0m \u001b[1m0s\u001b[0m 9ms/step - Accuracy: 0.0000e+00 - loss: 0.0087 - val_Accuracy: 0.0000e+00 - val_loss: 0.0096\n",
      "Epoch 99/100\n",
      "\u001b[1m8/8\u001b[0m \u001b[32m━━━━━━━━━━━━━━━━━━━━\u001b[0m\u001b[37m\u001b[0m \u001b[1m0s\u001b[0m 9ms/step - Accuracy: 0.0000e+00 - loss: 0.0093 - val_Accuracy: 0.0000e+00 - val_loss: 0.0095\n",
      "Epoch 100/100\n",
      "\u001b[1m8/8\u001b[0m \u001b[32m━━━━━━━━━━━━━━━━━━━━\u001b[0m\u001b[37m\u001b[0m \u001b[1m0s\u001b[0m 9ms/step - Accuracy: 0.0000e+00 - loss: 0.0079 - val_Accuracy: 0.0000e+00 - val_loss: 0.0095\n"
     ]
    }
   ],
   "source": [
    "history = model.fit(x_train_scaled, y_train, epochs=100, validation_split=0.2)\n",
    "# in this ANN build for understand don't focous on accuracy score "
   ]
  },
  {
   "cell_type": "code",
   "execution_count": 34,
   "id": "9e36ee02",
   "metadata": {},
   "outputs": [
    {
     "name": "stdout",
     "output_type": "stream",
     "text": [
      "\u001b[1m3/3\u001b[0m \u001b[32m━━━━━━━━━━━━━━━━━━━━\u001b[0m\u001b[37m\u001b[0m \u001b[1m0s\u001b[0m 35ms/step \n"
     ]
    }
   ],
   "source": [
    "y_pred = model.predict(x_test_scaled)"
   ]
  },
  {
   "cell_type": "code",
   "execution_count": 35,
   "id": "d3cbf31f",
   "metadata": {},
   "outputs": [],
   "source": [
    "from sklearn.metrics import r2_score"
   ]
  },
  {
   "cell_type": "code",
   "execution_count": 36,
   "id": "39a01837",
   "metadata": {},
   "outputs": [
    {
     "data": {
      "text/plain": [
       "0.4403281054793956"
      ]
     },
     "execution_count": 36,
     "metadata": {},
     "output_type": "execute_result"
    }
   ],
   "source": [
    "r2_score(y_test, y_pred)"
   ]
  },
  {
   "cell_type": "code",
   "execution_count": 37,
   "id": "acd6cfb6",
   "metadata": {},
   "outputs": [
    {
     "data": {
      "image/png": "[encoded data removed]",
      "text/plain": [
       "<Figure size 640x480 with 1 Axes>"
      ]
     },
     "metadata": {},
     "output_type": "display_data"
    }
   ],
   "source": [
    "plt.plot(history.history['loss'],label = ['train loss'])\n",
    "plt.plot(history.history['val_loss'], label = ['val loss'])\n",
    "plt.legend()\n",
    "plt.show()"
   ]
  },
  {
   "cell_type": "code",
   "execution_count": 38,
   "id": "7e457976",
   "metadata": {},
   "outputs": [
    {
     "data": {
      "image/png": "[encoded data removed]",
      "text/plain": [
       "<Figure size 640x480 with 1 Axes>"
      ]
     },
     "metadata": {},
     "output_type": "display_data"
    }
   ],
   "source": [
    "plt.plot(history.history['Accuracy'], label = ['train_accu'])\n",
    "plt.plot(history.history['val_Accuracy'], label = 'val_accu')\n",
    "plt.legend()\n",
    "plt.show()"
   ]
  },
  {
   "cell_type": "code",
   "execution_count": null,
   "id": "d1d19687",
   "metadata": {},
   "outputs": [],
   "source": []
  }
 ],
 "metadata": {
  "kernelspec": {
   "display_name": "venv",
   "language": "python",
   "name": "python3"
  },
  "language_info": {
   "codemirror_mode": {
    "name": "ipython",
    "version": 3
   },
   "file_extension": ".py",
   "mimetype": "text/x-python",
   "name": "python",
   "nbconvert_exporter": "python",
   "pygments_lexer": "ipython3",
   "version": "3.12.4"
  }
 },
 "nbformat": 4,
 "nbformat_minor": 5
}
